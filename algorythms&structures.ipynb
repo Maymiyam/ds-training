{
  "nbformat": 4,
  "nbformat_minor": 0,
  "metadata": {
    "colab": {
      "provenance": []
    },
    "kernelspec": {
      "name": "python3",
      "display_name": "Python 3"
    },
    "language_info": {
      "name": "python"
    }
  },
  "cells": [
    {
      "cell_type": "markdown",
      "source": [
        "Напишите функцию на Python, которая находит наименьшее число в списке целых чисел. Но если список пуст, функция должна вызывать исключение.\n",
        "Функция должна принимать список целых чисел в качестве аргумента и возвращать наименьшее число в этом списке. Если список пуст, функция должна вызывать исключение ValueError с сообщением \"Список пуст!\".\n",
        "\n",
        "Пример входных данных:  4 8 2 16 32 77  \n",
        "Пример выходных данных: 2"
      ],
      "metadata": {
        "id": "Bit3JIbon220"
      }
    },
    {
      "cell_type": "code",
      "execution_count": null,
      "metadata": {
        "id": "PjpAD-5Nn0OT",
        "colab": {
          "base_uri": "https://localhost:8080/"
        },
        "outputId": "761d6a4a-8b16-40d1-bcc0-23c2201c1d32"
      },
      "outputs": [
        {
          "output_type": "stream",
          "name": "stdout",
          "text": [
            "4 8 2 16 32 77\n",
            "2\n"
          ]
        }
      ],
      "source": [
        "def min_number(numbers: list) -> int:\n",
        "  if not numbers:\n",
        "    raise ValueError('Список пуст!')\n",
        "  else:\n",
        "    return min(numbers)\n",
        "\n",
        "numbers = list(map(int, input().split()))\n",
        "\n",
        "try:\n",
        "  print(min_number(numbers))\n",
        "except ValueError as e:\n",
        "  print(e)"
      ]
    },
    {
      "cell_type": "markdown",
      "source": [
        "Напишите функцию на Python, которая находит наибольшее число в списке целых чисел. Но если список пуст, функция должна вызывать исключение.\n",
        "Функция должна принимать список целых чисел в качестве аргумента и возвращать наибольшее число в этом списке. Если список пуст, функция должна вызывать исключение ValueError с сообщением \"Список пуст!\".\n",
        "\n",
        "\n",
        "Пример входных данных: 4 8 2 16 32 77  \n",
        "Пример выходных данных: 77"
      ],
      "metadata": {
        "id": "VTkEP1LQo6N0"
      }
    },
    {
      "cell_type": "code",
      "source": [
        "def max_number(numbers: list) -> int:\n",
        "  if not numbers:\n",
        "    raise ValueError('Список пуст!')\n",
        "  else:\n",
        "    return max(numbers)\n",
        "\n",
        "numbers = list(map(int, input().split()))\n",
        "\n",
        "try:\n",
        "  print(max_number(numbers))\n",
        "except ValueError as e:\n",
        "  print(e)"
      ],
      "metadata": {
        "id": "l_P-LzEEpO9R",
        "colab": {
          "base_uri": "https://localhost:8080/"
        },
        "outputId": "1f87eb8e-4484-46d6-ad71-2ef40c0ec600"
      },
      "execution_count": null,
      "outputs": [
        {
          "output_type": "stream",
          "name": "stdout",
          "text": [
            "4 8 2 16 32 77\n",
            "77\n"
          ]
        }
      ]
    },
    {
      "cell_type": "markdown",
      "source": [
        "Реализуйте пузырьковую сортировку на Python для списка целых чисел. Но функция должна обрабатывать случаи, когда список пуст или содержит только один элемент.\n",
        "Функция должна принимать список целых чисел в качестве аргумента и возвращать отсортированный список в порядке возрастания с помощью пузырьковой сортировки. Если список пуст или содержит только один элемент, функция должна возвращать исходный список.\n",
        "\n",
        "\n",
        "Пример входных данных:  4 8 2 16 32 77  \n",
        "Пример выходных данных: 2 4 8 16 32 77"
      ],
      "metadata": {
        "id": "enNe7Fp7pOSR"
      }
    },
    {
      "cell_type": "code",
      "source": [
        "def bubble_sort(nums: list) -> list:\n",
        "    flag = True\n",
        "    if not nums or len(nums) == 1:\n",
        "        return nums\n",
        "    else:\n",
        "        while flag:\n",
        "            flag = False\n",
        "            for i in range(len(nums)-1):\n",
        "                if nums[i+1] < nums[i]:\n",
        "                    nums[i+1], nums[i] = nums[i], nums[i+1]\n",
        "                    flag = True\n",
        "    return nums\n",
        "\n",
        "\n",
        "numbers = list(map(int, input().split()))\n",
        "print(bubble_sort(numbers))"
      ],
      "metadata": {
        "colab": {
          "base_uri": "https://localhost:8080/"
        },
        "id": "bP0HBvdHT1JV",
        "outputId": "e03d5205-0c72-4070-bf31-9a40cb4d1f52"
      },
      "execution_count": null,
      "outputs": [
        {
          "output_type": "stream",
          "name": "stdout",
          "text": [
            "5 4 11 23 1\n",
            "[1, 4, 5, 11, 23]\n"
          ]
        }
      ]
    },
    {
      "cell_type": "markdown",
      "source": [
        "Реализуйте сортировку выбором на Python для списка целых чисел. Но функция должна обрабатывать случаи, когда список пуст или содержит только один элемент.\n",
        "Функция должна принимать список целых чисел в качестве аргумента и возвращать отсортированный список с помощью сортировки выбором. Если список пуст или содержит только один элемент, функция должна возвращать исходный список.\n",
        "\n",
        "\n",
        "Пример входных данных: 4 8 2 16 32 77  \n",
        "Пример выходных данных: 77 32 16 8 4 2"
      ],
      "metadata": {
        "id": "zWyl2cwfpelJ"
      }
    },
    {
      "cell_type": "code",
      "source": [
        "# по убыванию\n",
        "def selection_sort(nums: list) -> list:\n",
        "    if not nums or len(nums) == 1:\n",
        "        return nums\n",
        "    else:\n",
        "        for i in range(len(nums)):\n",
        "            max_num_ind = i\n",
        "            for j in range(i+1, len(nums)):\n",
        "                if nums[j] > nums[max_num_ind]:\n",
        "                    max_num_ind = j\n",
        "            nums[max_num_ind], nums[i] = nums[i], nums[max_num_ind]\n",
        "        return nums\n",
        "\n",
        "numbers = list(map(int, input().split()))\n",
        "print(selection_sort(numbers))"
      ],
      "metadata": {
        "colab": {
          "base_uri": "https://localhost:8080/"
        },
        "id": "a3xbvuYlZ8bC",
        "outputId": "bf5ac078-c827-43a6-ce76-253769c984c9"
      },
      "execution_count": null,
      "outputs": [
        {
          "output_type": "stream",
          "name": "stdout",
          "text": [
            "4 8 2 16 32 77\n",
            "[77, 32, 16, 8, 4, 2]\n"
          ]
        }
      ]
    },
    {
      "cell_type": "markdown",
      "source": [
        "Напишите программу на Python, которая вычисляет объем свободной оперативной памяти на компьютере. Но программа должна также выводить на экран общий объем оперативной памяти и объем, занятый системой.\n",
        "Программа должна выводить на экран три значения: общий объем оперативной памяти, объем памяти, занятый системой, и объем свободной оперативной памяти, используя модуль psutil.\n",
        "\n",
        "\n",
        "Пример входных данных:  \n",
        "\\-  \n",
        "Пример выходных данных:  \n",
        "Общий объем: 16 гб  \n",
        "Занято системой: 3 гб  \n",
        "Свободно: 13 гб"
      ],
      "metadata": {
        "id": "2qENal6hpig2"
      }
    },
    {
      "cell_type": "code",
      "source": [
        "import psutil\n",
        "psutil.virtual_memory()"
      ],
      "metadata": {
        "id": "ZMNRYcVIp2Ju",
        "colab": {
          "base_uri": "https://localhost:8080/"
        },
        "outputId": "3f0857ca-580d-4b13-f17f-1952d6fc29d8"
      },
      "execution_count": null,
      "outputs": [
        {
          "output_type": "execute_result",
          "data": {
            "text/plain": [
              "svmem(total=13613305856, available=12451512320, percent=8.5, used=844861440, free=9420787712, active=900341760, inactive=3035512832, buffers=74911744, cached=3272744960, shared=17178624, slab=142340096)"
            ]
          },
          "metadata": {},
          "execution_count": 60
        }
      ]
    },
    {
      "cell_type": "code",
      "source": [
        "# функция по переводу из байт в Гб\n",
        "def memory_format_gb(bytes: str) -> float:\n",
        "  gb = bytes / (1024 ** 3)\n",
        "  return f'{round(gb)}'"
      ],
      "metadata": {
        "id": "xNcTUCR_eh6t"
      },
      "execution_count": null,
      "outputs": []
    },
    {
      "cell_type": "code",
      "source": [
        "# функция нахождения значений памяти\n",
        "def show_memory_size():\n",
        "  virtual_memory = psutil.virtual_memory()\n",
        "  total_memory = virtual_memory.total\n",
        "  available_memory = virtual_memory.available\n",
        "  used_memory = virtual_memory.used\n",
        "\n",
        "  print(f'Общий объем: {memory_format_gb(total_memory)} гб')\n",
        "  print(f'Занято системой: {memory_format_gb(used_memory)} гб')\n",
        "  print(f'Свободно: {memory_format_gb(available_memory)} гб')"
      ],
      "metadata": {
        "id": "bPIN7k1jgNdx"
      },
      "execution_count": null,
      "outputs": []
    },
    {
      "cell_type": "code",
      "source": [
        "show_memory_size()"
      ],
      "metadata": {
        "colab": {
          "base_uri": "https://localhost:8080/"
        },
        "id": "vvqeJ-1ahUl5",
        "outputId": "976c9b5e-1556-4647-b28e-99f2998fb2a2"
      },
      "execution_count": null,
      "outputs": [
        {
          "output_type": "stream",
          "name": "stdout",
          "text": [
            "Общий объем: 13 гб\n",
            "Занято системой: 1 гб\n",
            "Свободно: 12 гб\n"
          ]
        }
      ]
    },
    {
      "cell_type": "markdown",
      "source": [
        "Реализуйте алгоритм вставки элемента в отсортированный по убыванию массив целых чисел на Python. Но функция должна обрабатывать случаи, когда массив пуст или содержит только один элемент.\n",
        "Функция должна принимать отсортированный массив целых чисел и новый элемент в качестве аргументов и возвращать отсортированный массив с добавленным элементом. Если массив пуст или содержит только один элемент, функция должна возвращать массив с добавленным элементом.\n",
        "В первый аргумент функции записывается вставляемое число, а во второй список.\n",
        "\n",
        "\n",
        "Пример входных данных:  \n",
        "20  \n",
        "77 32 16 8 4 2  \n",
        "Пример выходных данных:  \n",
        "77 32 20 16 8 4 2"
      ],
      "metadata": {
        "id": "jq4RhBDmp2wD"
      }
    },
    {
      "cell_type": "code",
      "source": [
        "from random import randint"
      ],
      "metadata": {
        "id": "tecoJjXIlXEg"
      },
      "execution_count": null,
      "outputs": []
    },
    {
      "cell_type": "code",
      "source": [
        "# функция для создания списка рандомных чисел\n",
        "\n",
        "def generate_random_nums(n: int) -> list:\n",
        "  random_nums_list = []\n",
        "  for _ in range(n):\n",
        "    random_nums_list.append(random.randint(-100, 100))\n",
        "  print(random_nums_list)\n",
        "  return random_nums_list\n",
        "\n",
        "# n = int(input('Введите количество элементов для нового списка '))"
      ],
      "metadata": {
        "id": "q1nqOjl6qAq3"
      },
      "execution_count": null,
      "outputs": []
    },
    {
      "cell_type": "code",
      "source": [
        "def insert_into_sorted(new_num: int, nums: list) -> list:\n",
        "  if not nums or len(nums) == 1:\n",
        "    return nums\n",
        "  else:\n",
        "    if new_num >= max(nums):\n",
        "      nums.insert(0, new_num)\n",
        "      return nums\n",
        "    elif new_num <= min(nums):\n",
        "      nums.append(new_num)\n",
        "      return nums\n",
        "    else:\n",
        "      for i in range(len(nums)):\n",
        "        if nums[i+1] <= new_num <= nums[i]:\n",
        "          nums.insert(i+1, new_num)\n",
        "          return nums\n",
        "\n",
        "# nums = generate_random_nums(int(input('Введите количество элементов для нового списка: ')))\n",
        "new_num = int(input('Введите число, которое хотите добавить '))\n",
        "nums = list(map(int, input('Введите список чисел через пробел ').split()))\n",
        "sorted_nums = nums.sort(reverse = True) # сортировка по убыванию\n",
        "\n",
        "print(insert_into_sorted(new_num, nums))"
      ],
      "metadata": {
        "colab": {
          "base_uri": "https://localhost:8080/"
        },
        "id": "RCuhmhiPlLUc",
        "outputId": "f2156929-cad9-4be7-a75c-d551bfbb3f36"
      },
      "execution_count": null,
      "outputs": [
        {
          "output_type": "stream",
          "name": "stdout",
          "text": [
            "Введите число, которое хотите добавить 5\n",
            "Введите список чисел через пробел 1 66 3 2\n",
            "[66, 5, 3, 2, 1]\n"
          ]
        }
      ]
    },
    {
      "cell_type": "markdown",
      "source": [
        "Реализуйте стек на Python с помощью связанного списка и напишите функции для добавления, удаления и просмотра элементов стека.\n",
        "Стек должен быть реализован с помощью связанного списка, а не списка. Функции должны реализовывать операции push, pop и peek."
      ],
      "metadata": {
        "id": "3XlghGQXqBYs"
      }
    },
    {
      "cell_type": "code",
      "source": [
        "class Stack:\n",
        "    def __init__(self):\n",
        "        self.stack = []\n",
        "\n",
        "    def pop(self):\n",
        "        if len(self.stack) <= 0:\n",
        "            return None\n",
        "        removed = self.stack.pop()\n",
        "        return removed\n",
        "\n",
        "    def push(self, item):\n",
        "        self.stack.append(item)\n",
        "\n",
        "    def peek(self, index):\n",
        "        if len(self.stack) <= 0:\n",
        "            return None\n",
        "        return self.stack[index]"
      ],
      "metadata": {
        "id": "cDeLBa8B3Vg3"
      },
      "execution_count": null,
      "outputs": []
    },
    {
      "cell_type": "code",
      "source": [
        "stack = Stack()\n",
        "\n",
        "stack.push(7)\n",
        "stack.push(19)\n",
        "stack.push(1)\n",
        "stack.push(33)"
      ],
      "metadata": {
        "colab": {
          "base_uri": "https://localhost:8080/"
        },
        "id": "zIVhTgt73d7M",
        "outputId": "acf56957-d195-44f0-cbfd-e957eecd724f"
      },
      "execution_count": null,
      "outputs": [
        {
          "output_type": "stream",
          "name": "stdout",
          "text": [
            "<__main__.Stack object at 0x7ebb7531f9a0>\n"
          ]
        }
      ]
    },
    {
      "cell_type": "code",
      "source": [
        "stack.peek(-1)"
      ],
      "metadata": {
        "colab": {
          "base_uri": "https://localhost:8080/"
        },
        "id": "5AeIB5Se4NoG",
        "outputId": "0efb9e49-ea9d-404c-b5d8-0d618ad46a60"
      },
      "execution_count": null,
      "outputs": [
        {
          "output_type": "execute_result",
          "data": {
            "text/plain": [
              "33"
            ]
          },
          "metadata": {},
          "execution_count": 15
        }
      ]
    },
    {
      "cell_type": "code",
      "source": [
        "stack.pop()"
      ],
      "metadata": {
        "colab": {
          "base_uri": "https://localhost:8080/"
        },
        "id": "kn8auVtM4b_r",
        "outputId": "96200b3d-71a7-4e1c-8d33-97b667cdb7cf"
      },
      "execution_count": null,
      "outputs": [
        {
          "output_type": "execute_result",
          "data": {
            "text/plain": [
              "33"
            ]
          },
          "metadata": {},
          "execution_count": 16
        }
      ]
    },
    {
      "cell_type": "code",
      "source": [
        "stack.peek(-1)"
      ],
      "metadata": {
        "colab": {
          "base_uri": "https://localhost:8080/"
        },
        "id": "GVhuGQA34jeK",
        "outputId": "d4a02d67-1139-42e9-da37-09e5122ee8c4"
      },
      "execution_count": null,
      "outputs": [
        {
          "output_type": "execute_result",
          "data": {
            "text/plain": [
              "1"
            ]
          },
          "metadata": {},
          "execution_count": 17
        }
      ]
    },
    {
      "cell_type": "markdown",
      "source": [
        "Напишите рекурсивную функцию на Python для нахождения n-го числа Фибоначчи. Функция должна принимать целое число n в качестве аргумента и возвращать соответствующее число Фибоначчи.\n",
        "Числа Фибоначчи определяются рекурсивно как сумма двух предыдущих чисел: F(n) = F(n-1) + F(n-2). Например, F(0) = 0, F(1) = 1, F(2) = 1, F(3) = 2 и т.д."
      ],
      "metadata": {
        "id": "Wr8Rb16yqFeQ"
      }
    },
    {
      "cell_type": "code",
      "source": [
        "def fibonacci(n: int) -> int:\n",
        "  if n == 1 or n == 2:\n",
        "    return 1\n",
        "  else:\n",
        "    return fibonacci(n-1) + fibonacci(n-2)\n",
        "\n",
        "n = int(input())\n",
        "\n",
        "print(fibonacci(n))"
      ],
      "metadata": {
        "id": "Goh3ClvOqE1K",
        "colab": {
          "base_uri": "https://localhost:8080/"
        },
        "outputId": "3ab6217d-24c6-41bd-8841-4a5a566d3e54"
      },
      "execution_count": null,
      "outputs": [
        {
          "output_type": "stream",
          "name": "stdout",
          "text": [
            "6\n",
            "8\n"
          ]
        }
      ]
    },
    {
      "cell_type": "markdown",
      "source": [
        "Реализуйте очередь на Python с помощью связанного списка и напишите функции для добавления, удаления и просмотра элементов очереди. Функции должны работать для любого типа данных.\n",
        "Очередь должна быть реализована с помощью связанного списка, а не списка. Функции должны реализовывать операции enqueue, dequeue и peek. Очередь должна работать для любого типа данных, а не только целых чисел."
      ],
      "metadata": {
        "id": "W9irBB1sqSOE"
      }
    },
    {
      "cell_type": "code",
      "source": [
        "import queue\n",
        "\n",
        "class Queue:\n",
        "  def __init__(self):\n",
        "    self.queue = []\n",
        "\n",
        "# добавить элемент в начало списка (в конец очереди)\n",
        "  def enqueue(self, item):\n",
        "    self.queue.insert(0, item)\n",
        "\n",
        "# удалить элемент в конце списка (первый в очереди)\n",
        "  def dequeue(self):\n",
        "    if len(self.queue) > 0:\n",
        "      return self.queue.pop()\n",
        "    else:\n",
        "      return 'Очередь пуста'\n",
        "\n",
        "# посмотреть, кто первый в очереди\n",
        "  def peek_next(self):\n",
        "    if len(self.queue) > 0:\n",
        "      return self.queue[0]\n",
        "    else:\n",
        "      return 'Очередь пуста'\n",
        "\n",
        "q = Queue()\n",
        "q.enqueue('a')\n",
        "q.enqueue('b')\n",
        "q.enqueue('c')\n",
        "\n",
        "print('Первый в очереди элемент:', q.peek_next())\n",
        "print(f'Элемент \"{q.dequeue()}\" удален из очереди')\n"
      ],
      "metadata": {
        "id": "5dbopNgfqTZS",
        "colab": {
          "base_uri": "https://localhost:8080/"
        },
        "outputId": "05e0dc16-0914-4123-947e-58e3d7038e84"
      },
      "execution_count": null,
      "outputs": [
        {
          "output_type": "stream",
          "name": "stdout",
          "text": [
            "Первый в очереди элемент: c\n",
            "Элемент \"a\" удален из очереди\n"
          ]
        }
      ]
    }
  ]
}